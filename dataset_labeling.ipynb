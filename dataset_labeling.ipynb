{
 "cells": [
  {
   "cell_type": "code",
   "execution_count": 10,
   "id": "dfd03939-1e95-4a39-ae03-a8741ddaf47c",
   "metadata": {},
   "outputs": [],
   "source": [
    "def video_cut(video, start_time, end_time, count): # save cut video in the same directory\n",
    "    ffmpeg_extract_subclip(video, start_time, end_time, targetname=\"Shoplifting\"+str(count)+\".mp4\")"
   ]
  },
  {
   "cell_type": "code",
   "execution_count": 11,
   "id": "d7dc0052-d3a3-41bb-8b92-e4efa6ec02e3",
   "metadata": {},
   "outputs": [],
   "source": [
    "from moviepy.editor import VideoFileClip, vfx\n",
    "\n",
    "def speed_up_video(input_video_path):\n",
    "    output_path = input_video_path.replace('.mp4', '_speed.mp4')  \n",
    "    video = VideoFileClip(input_video_path)\n",
    "    speedup_video = video.fx(vfx.speedx, 1.5)  \n",
    "    speedup_video.write_videofile(output_path, codec='libx264') "
   ]
  },
  {
   "cell_type": "code",
   "execution_count": 12,
   "id": "cce2342f",
   "metadata": {},
   "outputs": [
    {
     "data": {
      "text/plain": [
       "'/home/trueuser/Desktop/Project GitHub '"
      ]
     },
     "execution_count": 12,
     "metadata": {},
     "output_type": "execute_result"
    }
   ],
   "source": [
    "pwd"
   ]
  },
  {
   "cell_type": "code",
   "execution_count": 13,
   "id": "dcc4943f-685a-4680-9e35-769811d42013",
   "metadata": {},
   "outputs": [],
   "source": [
    "import cv2\n",
    "import os\n",
    "from ultralytics import YOLO\n",
    "from ultralytics.utils.plotting import Annotator\n",
    "from PIL import Image\n",
    "def receive_frames(video_path, counter):\n",
    "    #video_path = 'Shoplifting5.mp4' \n",
    "    output_folder = 'Frames'\n",
    "    \n",
    "    cap = cv2.VideoCapture(video_path)\n",
    "    frame_count = 0\n",
    "    \n",
    "    \n",
    "    while True:\n",
    "        ret, frame = cap.read()\n",
    "        if not ret:\n",
    "            break\n",
    "        frame_count += 1\n",
    "        frame_name = f'frame_{counter}_{frame_count}.jpg'\n",
    "        cv2.imwrite(os.path.join(output_folder, frame_name), frame)\n",
    "    \n",
    "    cap.release()\n",
    "    #cv2.destroyAllWindows()\n",
    "    return"
   ]
  },
  {
   "cell_type": "code",
   "execution_count": 14,
   "id": "603e0f28-6549-4090-9bf5-2d90910c4ebb",
   "metadata": {},
   "outputs": [],
   "source": [
    "# for i in range(1, 49):\n",
    "#     video_name = f\"Videos/Shoplifting{i}.mp4\"\n",
    "#     receive_frames(video_name, i)"
   ]
  },
  {
   "cell_type": "code",
   "execution_count": 15,
   "id": "3c1ef058-a2ce-4101-af4c-81f00883328e",
   "metadata": {},
   "outputs": [],
   "source": [
    "import pandas as pd\n",
    "df_frames = pd.DataFrame(columns = ['file_name', 'labels'])"
   ]
  },
  {
   "cell_type": "code",
   "execution_count": 16,
   "id": "b6c1f809-3390-4eb5-a15f-060584ae285b",
   "metadata": {},
   "outputs": [],
   "source": [
    "import pandas as pd\n",
    "df_frames = pd.read_csv('metadata.csv')"
   ]
  },
  {
   "cell_type": "code",
   "execution_count": 17,
   "id": "ef360184-af09-4940-9880-16c924c76816",
   "metadata": {},
   "outputs": [
    {
     "data": {
      "text/html": [
       "<div>\n",
       "<style scoped>\n",
       "    .dataframe tbody tr th:only-of-type {\n",
       "        vertical-align: middle;\n",
       "    }\n",
       "\n",
       "    .dataframe tbody tr th {\n",
       "        vertical-align: top;\n",
       "    }\n",
       "\n",
       "    .dataframe thead th {\n",
       "        text-align: right;\n",
       "    }\n",
       "</style>\n",
       "<table border=\"1\" class=\"dataframe\">\n",
       "  <thead>\n",
       "    <tr style=\"text-align: right;\">\n",
       "      <th></th>\n",
       "      <th>file_name</th>\n",
       "      <th>labels</th>\n",
       "    </tr>\n",
       "  </thead>\n",
       "  <tbody>\n",
       "    <tr>\n",
       "      <th>0</th>\n",
       "      <td>frame_7_92.jpg</td>\n",
       "      <td>0</td>\n",
       "    </tr>\n",
       "    <tr>\n",
       "      <th>1</th>\n",
       "      <td>frame_39_154.jpg</td>\n",
       "      <td>0</td>\n",
       "    </tr>\n",
       "    <tr>\n",
       "      <th>2</th>\n",
       "      <td>frame_48_13.jpg</td>\n",
       "      <td>0</td>\n",
       "    </tr>\n",
       "    <tr>\n",
       "      <th>3</th>\n",
       "      <td>frame_17_89.jpg</td>\n",
       "      <td>0</td>\n",
       "    </tr>\n",
       "    <tr>\n",
       "      <th>4</th>\n",
       "      <td>frame_32_2.jpg</td>\n",
       "      <td>0</td>\n",
       "    </tr>\n",
       "    <tr>\n",
       "      <th>...</th>\n",
       "      <td>...</td>\n",
       "      <td>...</td>\n",
       "    </tr>\n",
       "    <tr>\n",
       "      <th>11975</th>\n",
       "      <td>frame_19_154.jpg</td>\n",
       "      <td>0</td>\n",
       "    </tr>\n",
       "    <tr>\n",
       "      <th>11976</th>\n",
       "      <td>frame_3_354.jpg</td>\n",
       "      <td>0</td>\n",
       "    </tr>\n",
       "    <tr>\n",
       "      <th>11977</th>\n",
       "      <td>frame_36_35.jpg</td>\n",
       "      <td>0</td>\n",
       "    </tr>\n",
       "    <tr>\n",
       "      <th>11978</th>\n",
       "      <td>frame_48_141.jpg</td>\n",
       "      <td>0</td>\n",
       "    </tr>\n",
       "    <tr>\n",
       "      <th>11979</th>\n",
       "      <td>frame_21_320.jpg</td>\n",
       "      <td>1</td>\n",
       "    </tr>\n",
       "  </tbody>\n",
       "</table>\n",
       "<p>11980 rows × 2 columns</p>\n",
       "</div>"
      ],
      "text/plain": [
       "              file_name  labels\n",
       "0        frame_7_92.jpg       0\n",
       "1      frame_39_154.jpg       0\n",
       "2       frame_48_13.jpg       0\n",
       "3       frame_17_89.jpg       0\n",
       "4        frame_32_2.jpg       0\n",
       "...                 ...     ...\n",
       "11975  frame_19_154.jpg       0\n",
       "11976   frame_3_354.jpg       0\n",
       "11977   frame_36_35.jpg       0\n",
       "11978  frame_48_141.jpg       0\n",
       "11979  frame_21_320.jpg       1\n",
       "\n",
       "[11980 rows x 2 columns]"
      ]
     },
     "execution_count": 17,
     "metadata": {},
     "output_type": "execute_result"
    }
   ],
   "source": [
    "df_frames"
   ]
  },
  {
   "cell_type": "code",
   "execution_count": null,
   "id": "807ac037-d797-4afb-8c64-093f7b2b980c",
   "metadata": {},
   "outputs": [],
   "source": [
    "import os\n",
    "image_dir = 'Frames'\n",
    "image_files = os.listdir(image_dir)\n",
    "new_rows = []\n",
    "for image_file in image_files:\n",
    "        file_name = os.path.basename(image_file)\n",
    "        if file_name not in df_frames['file_name'].values:\n",
    "            new_row = {'file_name': file_name, 'labels': 0}\n",
    "            new_rows.append({'file_name': file_name, 'labels': 0})\n",
    "df_frames = pd.concat([df_frames, pd.DataFrame(new_rows)], ignore_index=True)"
   ]
  },
  {
   "cell_type": "code",
   "execution_count": 19,
   "id": "f7397b85-8a71-4d5c-8982-89d587aebab2",
   "metadata": {},
   "outputs": [
    {
     "name": "stdout",
     "output_type": "stream",
     "text": [
      "<class 'pandas.core.frame.DataFrame'>\n",
      "RangeIndex: 11980 entries, 0 to 11979\n",
      "Data columns (total 2 columns):\n",
      " #   Column     Non-Null Count  Dtype \n",
      "---  ------     --------------  ----- \n",
      " 0   file_name  11980 non-null  object\n",
      " 1   labels     11980 non-null  int64 \n",
      "dtypes: int64(1), object(1)\n",
      "memory usage: 187.3+ KB\n"
     ]
    }
   ],
   "source": [
    "df_frames.info()"
   ]
  },
  {
   "cell_type": "markdown",
   "id": "fc7c8a4a-e030-4e29-983f-ad3085cf5298",
   "metadata": {},
   "source": [
    "*Проставляем метки на кадры краж*"
   ]
  },
  {
   "cell_type": "code",
   "execution_count": 20,
   "id": "d5b8b733-5680-4292-9ab6-a76d31290377",
   "metadata": {},
   "outputs": [],
   "source": [
    "def set_label(number_video, start_frame, finish_frame):\n",
    "    for i in range(start_frame, finish_frame + 1):\n",
    "        df_frames.loc[df_frames['file_name'] == f\"frame_{number_video}_{i}.jpg\", 'labels'] = 1"
   ]
  },
  {
   "cell_type": "code",
   "execution_count": 21,
   "id": "866c3d03",
   "metadata": {},
   "outputs": [],
   "source": [
    "df_frames = pd.read_csv('metadata.csv')"
   ]
  },
  {
   "cell_type": "markdown",
   "id": "40e298ca",
   "metadata": {},
   "source": [
    "0 -- не берет товар\n",
    "1 -- берет товар\n",
    "2 -- держит товар в руках\n",
    "3 -- кладет товар в сумку\карман\n"
   ]
  },
  {
   "cell_type": "code",
   "execution_count": 47,
   "id": "e54e5f7e",
   "metadata": {},
   "outputs": [],
   "source": [
    "set_label(48, 90, 115)"
   ]
  },
  {
   "cell_type": "markdown",
   "id": "f0f68172-e076-4bc6-8c68-a52b2e25ee18",
   "metadata": {},
   "source": [
    "*Просмотров кадров*"
   ]
  },
  {
   "cell_type": "code",
   "execution_count": 22,
   "id": "b35b2379-8c9c-4640-af71-43d20f639e97",
   "metadata": {},
   "outputs": [],
   "source": [
    "# import os\n",
    "# from PIL import Image\n",
    "# import time\n",
    "# def show_video_frames(number_video):\n",
    "#     path = 'frames'\n",
    "#     images = [img for img in os.listdir(path) if img.endswith(\".jpg\") and f\"frame_{number_video}\" in img]\n",
    "#     #images.sort()\n",
    "    \n",
    "#     for img in images:\n",
    "#         image_path = os.path.join(path, img)\n",
    "#         image = Image.open(image_path)\n",
    "#         image.show()\n",
    "#         time.sleep(0.25)\n",
    "#         image.close()\n",
    "#     return"
   ]
  },
  {
   "cell_type": "code",
   "execution_count": 23,
   "id": "bf5bce5a-30b9-43f3-bf28-7d04ed5b3813",
   "metadata": {},
   "outputs": [
    {
     "data": {
      "text/plain": [
       "<Axes: ylabel='Frequency'>"
      ]
     },
     "execution_count": 23,
     "metadata": {},
     "output_type": "execute_result"
    },
    {
     "data": {
      "image/png": "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\n",
      "text/plain": [
       "<Figure size 640x480 with 1 Axes>"
      ]
     },
     "metadata": {},
     "output_type": "display_data"
    }
   ],
   "source": [
    "import seaborn as sns\n",
    "import matplotlib.pyplot as plt\n",
    "df_frames['labels'].plot(kind='hist')"
   ]
  },
  {
   "cell_type": "code",
   "execution_count": 24,
   "id": "ded8c824-a1a8-4f9a-942d-c3cf33b00943",
   "metadata": {},
   "outputs": [
    {
     "data": {
      "text/plain": [
       "2754"
      ]
     },
     "execution_count": 24,
     "metadata": {},
     "output_type": "execute_result"
    }
   ],
   "source": [
    "(df_frames['labels'] == 1).sum()"
   ]
  },
  {
   "cell_type": "code",
   "execution_count": 49,
   "id": "aa67a7f4-1342-42ec-b5da-da3caf02c76c",
   "metadata": {},
   "outputs": [],
   "source": [
    "df_frames.to_csv('metadata.csv', index=False)"
   ]
  }
 ],
 "metadata": {
  "kernelspec": {
   "display_name": "Python 3 (ipykernel)",
   "language": "python",
   "name": "python3"
  },
  "language_info": {
   "codemirror_mode": {
    "name": "ipython",
    "version": 3
   },
   "file_extension": ".py",
   "mimetype": "text/x-python",
   "name": "python",
   "nbconvert_exporter": "python",
   "pygments_lexer": "ipython3",
   "version": "3.10.12"
  }
 },
 "nbformat": 4,
 "nbformat_minor": 5
}
