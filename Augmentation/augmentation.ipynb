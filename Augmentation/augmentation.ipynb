{
 "cells": [
  {
   "cell_type": "code",
   "execution_count": null,
   "id": "ef4e245b",
   "metadata": {},
   "outputs": [],
   "source": [
    "!pip install -U albumentations"
   ]
  },
  {
   "cell_type": "code",
   "execution_count": 2,
   "id": "8190053f",
   "metadata": {},
   "outputs": [],
   "source": [
    "import albumentations as A\n",
    "import cv2\n",
    "import matplotlib.pyplot as plt\n",
    "import pandas as pd"
   ]
  },
  {
   "cell_type": "code",
   "execution_count": 3,
   "id": "82f2a7c3",
   "metadata": {},
   "outputs": [],
   "source": [
    "def horizontal_augmentation(img_path, type_transform, file_name, path_to_save):\n",
    "    \n",
    "    if type_transform == 'Horizontal':\n",
    "        transform = A.Compose(A.HorizontalFlip(p = 1))\n",
    "    #else: ... Добавить другие типы\n",
    "        \n",
    "    image = cv2.imread(img_path)\n",
    "    image = cv2.cvtColor(image, cv2.COLOR_BGR2RGB)\n",
    "    \n",
    "    transformed = transform(image = image)\n",
    "    transformed_image = transformed[\"image\"]\n",
    "    \n",
    "    nparray = transformed_image\n",
    "    nparraybgr = cv2.cvtColor(nparray, cv2.COLOR_RGB2BGR)\n",
    "\n",
    "    cv2.imwrite(path_to_save + '/' + file_name, nparraybgr)\n",
    "    \n",
    "    pass"
   ]
  }
 ],
 "metadata": {
  "kernelspec": {
   "display_name": "Python 3 (ipykernel)",
   "language": "python",
   "name": "python3"
  },
  "language_info": {
   "codemirror_mode": {
    "name": "ipython",
    "version": 3
   },
   "file_extension": ".py",
   "mimetype": "text/x-python",
   "name": "python",
   "nbconvert_exporter": "python",
   "pygments_lexer": "ipython3",
   "version": "3.10.12"
  }
 },
 "nbformat": 4,
 "nbformat_minor": 5
}
