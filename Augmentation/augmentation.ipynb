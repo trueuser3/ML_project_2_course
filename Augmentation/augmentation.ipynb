{
 "cells": [
  {
   "cell_type": "code",
   "execution_count": 1,
   "id": "8c02c8aa",
   "metadata": {
    "collapsed": true
   },
   "outputs": [
    {
     "name": "stdout",
     "output_type": "stream",
     "text": [
      "Defaulting to user installation because normal site-packages is not writeable\n",
      "Requirement already satisfied: albumentations in /home/trueuser/.local/lib/python3.10/site-packages (1.4.2)\n",
      "Requirement already satisfied: numpy>=1.24.4 in /home/trueuser/.local/lib/python3.10/site-packages (from albumentations) (1.26.4)\n",
      "Requirement already satisfied: scipy>=1.10.0 in /home/trueuser/.local/lib/python3.10/site-packages (from albumentations) (1.10.1)\n",
      "Requirement already satisfied: scikit-image>=0.21.0 in /home/trueuser/.local/lib/python3.10/site-packages (from albumentations) (0.22.0)\n",
      "Requirement already satisfied: PyYAML in /usr/lib/python3/dist-packages (from albumentations) (5.4.1)\n",
      "Requirement already satisfied: typing-extensions>=4.9.0 in /home/trueuser/.local/lib/python3.10/site-packages (from albumentations) (4.10.0)\n",
      "Requirement already satisfied: scikit-learn>=1.3.2 in /home/trueuser/.local/lib/python3.10/site-packages (from albumentations) (1.4.1.post1)\n",
      "Requirement already satisfied: opencv-python-headless>=4.9.0 in /home/trueuser/.local/lib/python3.10/site-packages (from albumentations) (4.9.0.80)\n",
      "Requirement already satisfied: networkx>=2.8 in /home/trueuser/.local/lib/python3.10/site-packages (from scikit-image>=0.21.0->albumentations) (3.1)\n",
      "Requirement already satisfied: pillow>=9.0.1 in /home/trueuser/.local/lib/python3.10/site-packages (from scikit-image>=0.21.0->albumentations) (9.1.1)\n",
      "Requirement already satisfied: imageio>=2.27 in /home/trueuser/.local/lib/python3.10/site-packages (from scikit-image>=0.21.0->albumentations) (2.27.0)\n",
      "Requirement already satisfied: tifffile>=2022.8.12 in /home/trueuser/.local/lib/python3.10/site-packages (from scikit-image>=0.21.0->albumentations) (2023.3.21)\n",
      "Requirement already satisfied: packaging>=21 in /home/trueuser/.local/lib/python3.10/site-packages (from scikit-image>=0.21.0->albumentations) (23.1)\n",
      "Requirement already satisfied: lazy_loader>=0.3 in /home/trueuser/.local/lib/python3.10/site-packages (from scikit-image>=0.21.0->albumentations) (0.3)\n",
      "Requirement already satisfied: joblib>=1.2.0 in /home/trueuser/.local/lib/python3.10/site-packages (from scikit-learn>=1.3.2->albumentations) (1.2.0)\n",
      "Requirement already satisfied: threadpoolctl>=2.0.0 in /home/trueuser/.local/lib/python3.10/site-packages (from scikit-learn>=1.3.2->albumentations) (3.1.0)\n",
      "\u001b[33mDEPRECATION: distro-info 1.1build1 has a non-standard version number. pip 24.1 will enforce this behaviour change. A possible replacement is to upgrade to a newer version of distro-info or contact the author to suggest that they release a version with a conforming version number. Discussion can be found at https://github.com/pypa/pip/issues/12063\u001b[0m\u001b[33m\n",
      "\u001b[0m\u001b[33mDEPRECATION: python-debian 0.1.43ubuntu1 has a non-standard version number. pip 24.1 will enforce this behaviour change. A possible replacement is to upgrade to a newer version of python-debian or contact the author to suggest that they release a version with a conforming version number. Discussion can be found at https://github.com/pypa/pip/issues/12063\u001b[0m\u001b[33m\n",
      "\u001b[0m"
     ]
    }
   ],
   "source": [
    "!pip install -U albumentations"
   ]
  },
  {
   "cell_type": "code",
   "execution_count": 2,
   "id": "8190053f",
   "metadata": {},
   "outputs": [],
   "source": [
    "import albumentations as A\n",
    "import cv2\n",
    "import matplotlib.pyplot as plt\n",
    "import pandas as pd"
   ]
  },
  {
   "cell_type": "code",
   "execution_count": 3,
   "id": "82f2a7c3",
   "metadata": {},
   "outputs": [],
   "source": [
    "def horizontal_augmentation(img_path, type_transform, file_name, path_to_save):\n",
    "    \n",
    "    if type_transform == 'Horizontal':\n",
    "        transform = A.Compose(A.HorizontalFlip(p = 1))\n",
    "    #else: ... Добавить другие типы\n",
    "        \n",
    "    image = cv2.imread(img_path)\n",
    "    image = cv2.cvtColor(image, cv2.COLOR_BGR2RGB)\n",
    "    \n",
    "    transformed = transform(image = image)\n",
    "    transformed_image = transformed[\"image\"]\n",
    "    \n",
    "    nparray = transformed_image\n",
    "    nparraybgr = cv2.cvtColor(nparray, cv2.COLOR_RGB2BGR)\n",
    "\n",
    "    cv2.imwrite(path_to_save + '/' + file_name, nparraybgr)\n",
    "    \n",
    "    pass"
   ]
  }
 ],
 "metadata": {
  "kernelspec": {
   "display_name": "Python 3 (ipykernel)",
   "language": "python",
   "name": "python3"
  },
  "language_info": {
   "codemirror_mode": {
    "name": "ipython",
    "version": 3
   },
   "file_extension": ".py",
   "mimetype": "text/x-python",
   "name": "python",
   "nbconvert_exporter": "python",
   "pygments_lexer": "ipython3",
   "version": "3.10.12"
  }
 },
 "nbformat": 4,
 "nbformat_minor": 5
}
