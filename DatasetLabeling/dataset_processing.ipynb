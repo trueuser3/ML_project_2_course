{
 "cells": [
  {
   "cell_type": "code",
   "execution_count": 92,
   "id": "dc04449c",
   "metadata": {
    "scrolled": true
   },
   "outputs": [],
   "source": [
    "import pandas as pd\n",
    "import numpy as np\n",
    "from datasets import load_dataset\n",
    "from PIL import Image"
   ]
  },
  {
   "cell_type": "code",
   "execution_count": 93,
   "id": "558bc426",
   "metadata": {},
   "outputs": [],
   "source": [
    "picture_jpg = open(\"Dataset/train/images/cam-pos-video-five_0mABuXZe_mp4-34_jpg.rf.9b778f8b3ce0a020ba4da7f3fbdffbc5.jpg\")"
   ]
  },
  {
   "cell_type": "code",
   "execution_count": 94,
   "id": "bae7bb8a",
   "metadata": {},
   "outputs": [],
   "source": [
    "df = pd.read_csv(\"Dataset_CSV/train/_annotations.csv\", names = ['image_name', 'left', 'upper', 'right', 'lower', 'label'])\n",
    "df_test = pd.read_csv(\"Dataset_CSV/test/_annotations.csv\", names = ['image_name', 'left', 'upper', 'right', 'lower', 'label'])\n",
    "df_valid = pd.read_csv(\"Dataset_CSV/valid/_annotations.csv\", names = ['image_name', 'left', 'upper', 'right', 'lower', 'label'])"
   ]
  },
  {
   "cell_type": "code",
   "execution_count": 98,
   "id": "763f65fa",
   "metadata": {},
   "outputs": [],
   "source": [
    "image_name = df[\"image_name\"]\n",
    "pos_left = df[\"left\"]\n",
    "pos_upper = df[\"upper\"]\n",
    "pos_right = df[\"right\"]\n",
    "pos_lower = df[\"lower\"]\n",
    "label = df[\"label\"]\n",
    "\n",
    "image_name_test = df_test[\"image_name\"]\n",
    "pos_left_test = df_test[\"left\"]\n",
    "pos_upper_test = df_test[\"upper\"]\n",
    "pos_right_test = df_test[\"right\"]\n",
    "pos_lower_test = df_test[\"lower\"]\n",
    "label_test = df_test[\"label\"]\n",
    "\n",
    "image_name_valid = df_valid[\"image_name\"]\n",
    "pos_left_valid = df_valid[\"left\"]\n",
    "pos_upper_valid = df_valid[\"upper\"]\n",
    "pos_right_valid = df_valid[\"right\"]\n",
    "pos_lower_valid = df_valid[\"lower\"]\n",
    "label_valid = df_valid[\"label\"]"
   ]
  },
  {
   "cell_type": "code",
   "execution_count": 101,
   "id": "64164b4b",
   "metadata": {},
   "outputs": [],
   "source": [
    "##Подготовка train датасета\n",
    "abs_path = \"Dataset/train/images/\"\n",
    "cropped_image_path = \"Dataset_CSV/Train_composed/\"\n",
    "width = 640\n",
    "height = 360\n",
    "color = (0, 0, 0) \n",
    "for i in range(0, len(df)):\n",
    "    new_image = Image.new(\"RGB\", (width, height), color)\n",
    "    temp_path = abs_path + str(image_name[i])\n",
    "    im = Image.open(temp_path)\n",
    "    area = (pos_left[i], pos_upper[i], pos_right[i], pos_lower[i])\n",
    "    cropped_image = im.crop(area)\n",
    "    \n",
    "    name_cropped_image = str(i) + \".jpg\"\n",
    "    \n",
    "    (x, y) = (pos_right[i], pos_upper[i])\n",
    "    insert_image = cropped_image\n",
    "    new_image.paste(insert_image, (x, y))\n",
    "    new_image.save(cropped_image_path + name_cropped_image)"
   ]
  },
  {
   "cell_type": "code",
   "execution_count": 102,
   "id": "41fed47c",
   "metadata": {},
   "outputs": [],
   "source": [
    "#Подготовка test датасета\n",
    "abs_path = \"Dataset/test/images/\"\n",
    "cropped_image_path = \"Dataset_CSV/Test_composed/\"\n",
    "width = 640\n",
    "height = 360\n",
    "color = (0, 0, 0) \n",
    "for i in range(0, len(df_test)):\n",
    "    new_image = Image.new(\"RGB\", (width, height), color)\n",
    "    temp_path = abs_path + str(image_name_test[i])\n",
    "    im = Image.open(temp_path)\n",
    "    area = (pos_left_test[i], pos_upper_test[i], pos_right_test[i], pos_lower_test[i])\n",
    "    cropped_image = im.crop(area)\n",
    "    \n",
    "    name_cropped_image = str(i) + \".jpg\"\n",
    "    \n",
    "    (x, y) = (pos_right_test[i], pos_upper_test[i])\n",
    "    insert_image = cropped_image\n",
    "    new_image.paste(insert_image, (x, y))\n",
    "    new_image.save(cropped_image_path + name_cropped_image)"
   ]
  },
  {
   "cell_type": "code",
   "execution_count": 104,
   "id": "60e77c4a",
   "metadata": {},
   "outputs": [],
   "source": [
    "#Подготовка valid датасета\n",
    "abs_path = \"Dataset/valid/images/\"\n",
    "cropped_image_path = \"Dataset_CSV/Valid_composed/\"\n",
    "width = 640\n",
    "height = 360\n",
    "color = (0, 0, 0) \n",
    "for i in range(0, len(df_valid)):\n",
    "    new_image = Image.new(\"RGB\", (width, height), color)\n",
    "    temp_path = abs_path + str(image_name_valid[i])\n",
    "    im = Image.open(temp_path)\n",
    "    area = (pos_left_valid[i], pos_upper_valid[i], pos_right_valid[i], pos_lower_valid[i])\n",
    "    cropped_image = im.crop(area)\n",
    "    \n",
    "    name_cropped_image = str(i) + \".jpg\"\n",
    "    \n",
    "    (x, y) = (pos_right_valid[i], pos_upper_valid[i])\n",
    "    insert_image = cropped_image\n",
    "    new_image.paste(insert_image, (x, y))\n",
    "    new_image.save(cropped_image_path + name_cropped_image)"
   ]
  },
  {
   "cell_type": "code",
   "execution_count": null,
   "id": "5393cf9b",
   "metadata": {},
   "outputs": [],
   "source": []
  }
 ],
 "metadata": {
  "kernelspec": {
   "display_name": "Python 3 (ipykernel)",
   "language": "python",
   "name": "python3"
  },
  "language_info": {
   "codemirror_mode": {
    "name": "ipython",
    "version": 3
   },
   "file_extension": ".py",
   "mimetype": "text/x-python",
   "name": "python",
   "nbconvert_exporter": "python",
   "pygments_lexer": "ipython3",
   "version": "3.10.12"
  }
 },
 "nbformat": 4,
 "nbformat_minor": 5
}
