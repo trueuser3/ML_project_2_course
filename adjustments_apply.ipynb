{
 "cells": [
  {
   "cell_type": "code",
   "execution_count": 1,
   "metadata": {},
   "outputs": [
    {
     "name": "stderr",
     "output_type": "stream",
     "text": [
      "c:\\Users\\chesn\\miniconda3\\envs\\ml_py11_torchvision\\Lib\\site-packages\\tqdm\\auto.py:21: TqdmWarning: IProgress not found. Please update jupyter and ipywidgets. See https://ipywidgets.readthedocs.io/en/stable/user_install.html\n",
      "  from .autonotebook import tqdm as notebook_tqdm\n"
     ]
    }
   ],
   "source": [
    "from datasets import load_from_disk\n",
    "\n",
    "ds_detected = load_from_disk(\"datasets\\datasets_cutted\\shoplifting_images_2\")\n"
   ]
  },
  {
   "cell_type": "code",
   "execution_count": 83,
   "metadata": {},
   "outputs": [],
   "source": [
    "from tqdm.auto import tqdm\n",
    "from datasets import Dataset, DatasetDict, concatenate_datasets\n",
    "import torchvision.transforms as T\n",
    "import random\n",
    "\n",
    "\n",
    "rotater1 = T.RandomRotation(degrees=(5,5))\n",
    "rotater2 = T.RandomRotation(degrees=(-5,-5))\n",
    "hor_flipper = T.RandomHorizontalFlip(p = 1)\n",
    "inverter = T.RandomInvert(p = 1)\n",
    "blurrer = T.GaussianBlur(kernel_size=(5, 9), sigma = 2)\n",
    "grayscale = T.Grayscale(num_output_channels=3)\n",
    "\n",
    "\n",
    "def get_adjusted_dataset(ds_detected):\n",
    "    img_tansformers = [rotater1, rotater2, hor_flipper, inverter, blurrer, grayscale]\n",
    "    dict_adjusted = {'image' : [], 'labels': []}\n",
    "    for i in tqdm(range(ds_detected['train'].num_rows)):\n",
    "        label = ds_detected['train'][i]['labels']\n",
    "        img = ds_detected['train'][i]['image']\n",
    "        for img_trans in img_tansformers:\n",
    "            if(random.random() < 0.5 or img_trans == grayscale):\n",
    "                dict_adjusted['image'].append(img_trans(img))\n",
    "                dict_adjusted['labels'].append(label)\n",
    "\n",
    "    return DatasetDict({\n",
    "        'train': concatenate_datasets([ds_detected['test'], Dataset.from_dict(dict_adjusted)]),\n",
    "        'test': ds_detected['test'],\n",
    "    })"
   ]
  },
  {
   "cell_type": "code",
   "execution_count": 84,
   "metadata": {},
   "outputs": [
    {
     "name": "stderr",
     "output_type": "stream",
     "text": [
      "100%|██████████| 214/214 [00:03<00:00, 55.07it/s]\n"
     ]
    }
   ],
   "source": [
    "ds_adjusted = get_adjusted_dataset(ds_detected)"
   ]
  },
  {
   "cell_type": "code",
   "execution_count": 85,
   "metadata": {},
   "outputs": [
    {
     "data": {
      "text/plain": [
       "DatasetDict({\n",
       "    train: Dataset({\n",
       "        features: ['image', 'labels'],\n",
       "        num_rows: 886\n",
       "    })\n",
       "    test: Dataset({\n",
       "        features: ['image', 'labels'],\n",
       "        num_rows: 108\n",
       "    })\n",
       "})"
      ]
     },
     "execution_count": 85,
     "metadata": {},
     "output_type": "execute_result"
    }
   ],
   "source": [
    "ds_adjusted"
   ]
  },
  {
   "cell_type": "code",
   "execution_count": 87,
   "metadata": {},
   "outputs": [
    {
     "name": "stderr",
     "output_type": "stream",
     "text": [
      "Saving the dataset (0/1 shards):   0%|          | 0/886 [00:00<?, ? examples/s]"
     ]
    },
    {
     "name": "stderr",
     "output_type": "stream",
     "text": [
      "Saving the dataset (1/1 shards): 100%|██████████| 886/886 [00:00<00:00, 2423.07 examples/s]\n",
      "Saving the dataset (1/1 shards): 100%|██████████| 108/108 [00:00<00:00, 3179.51 examples/s]\n"
     ]
    }
   ],
   "source": [
    "ds_adjusted.save_to_disk(\"datasets\\datasets_adjusted\\shoplifting_images_2\")"
   ]
  }
 ],
 "metadata": {
  "kernelspec": {
   "display_name": "ml_py11_torchvision",
   "language": "python",
   "name": "python3"
  },
  "language_info": {
   "codemirror_mode": {
    "name": "ipython",
    "version": 3
   },
   "file_extension": ".py",
   "mimetype": "text/x-python",
   "name": "python",
   "nbconvert_exporter": "python",
   "pygments_lexer": "ipython3",
   "version": "3.11.8"
  }
 },
 "nbformat": 4,
 "nbformat_minor": 2
}
