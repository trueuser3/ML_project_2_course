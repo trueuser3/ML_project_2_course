{
 "cells": [
  {
   "cell_type": "code",
   "execution_count": 92,
   "id": "7e2ca42f",
   "metadata": {},
   "outputs": [],
   "source": [
    "persons_arr = []\n",
    "persons_counter = 0"
   ]
  },
  {
   "cell_type": "code",
   "execution_count": 96,
   "id": "6d5a307a",
   "metadata": {},
   "outputs": [],
   "source": [
    "class Human:\n",
    "    def __init__(self, lower_left_x_y, upper_right_x_y, confidence):\n",
    "        self.lower_left_x_y = lower_left_x_y #координата левого нижнего угла бокса\n",
    "        self.upper_right_x_y = upper_right_x_y #координата правого верхнего угла бокса\n",
    "        self.confidence = 0\n",
    "    \n",
    "    def Human_move(self, temp_lower_left_x_y, temp_upper_right_x_y):\n",
    "        prev_x1 = self.lower_left_x_y[0]\n",
    "        prev_y1 = self.lower_left_x_y[1]\n",
    "        prev_x2 = self.upper_right_x_y[0]\n",
    "        prev_y2 = self.upper_right_x_y[1]\n",
    "    \n",
    "        temp_x1 = temp_lower_left_x_y[0]\n",
    "        temp_y1 = temp_lower_left_x_y[1]\n",
    "        temp_x2 = temp_upper_right_x_y[0]\n",
    "        temp_y2 = temp_upper_right_x_y[1]\n",
    "    \n",
    "        arr_diff = [abs(prev_x1 - temp_x1), abs(prev_y1 - temp_y1), abs(prev_x2 - temp_x2), abs(prev_y2 - temp_y2)]\n",
    "        max_diff = max(arr_diff)\n",
    "    \n",
    "        if (max_diff < 1):\n",
    "            self.lower_left_x_y = temp_lower_left_x_y\n",
    "            self.upper_right_x_y = temp_upper_right_x_y\n",
    "        else:\n",
    "            person_k = Human(temp_lower_left_x_y, temp_upper_right_x_y, 0)\n",
    "            persons_arr.append(person_k)\n",
    "            persons_counter += 1\n",
    "            \n",
    "    def info_about_human(self):\n",
    "        print(self.lower_left_x_y, self.upper_right_x_y, self.confidence)\n",
    "        \n",
    "    def class_1(self):\n",
    "        self.confidence = 1\n",
    "        \n",
    "    def class_2(self):\n",
    "        self.confidence += 0.1\n",
    "        \n",
    "    def class_3(self):\n",
    "        self.confidence += 0.15"
   ]
  },
  {
   "cell_type": "code",
   "execution_count": null,
   "id": "bb293d54",
   "metadata": {},
   "outputs": [],
   "source": []
  }
 ],
 "metadata": {
  "kernelspec": {
   "display_name": "Python 3 (ipykernel)",
   "language": "python",
   "name": "python3"
  },
  "language_info": {
   "codemirror_mode": {
    "name": "ipython",
    "version": 3
   },
   "file_extension": ".py",
   "mimetype": "text/x-python",
   "name": "python",
   "nbconvert_exporter": "python",
   "pygments_lexer": "ipython3",
   "version": "3.10.12"
  }
 },
 "nbformat": 4,
 "nbformat_minor": 5
}
