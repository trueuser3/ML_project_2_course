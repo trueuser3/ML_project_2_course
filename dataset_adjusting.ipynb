{
 "cells": [
  {
   "cell_type": "markdown",
   "id": "ce721003-60c7-4052-ba16-8bfd66a56794",
   "metadata": {},
   "source": [
    "*применение аугментации отзеркаливание к датасету https://universe.roboflow.com/theft-detection-poc/shoplifting-detection-tqzfb/dataset/1*"
   ]
  },
  {
   "cell_type": "code",
   "execution_count": null,
   "id": "dc8b37ff-43c9-4da7-81aa-af198a3cac26",
   "metadata": {},
   "outputs": [],
   "source": [
    "def adjust(directory_name):\n",
    "    df = pd.read_csv(directory_name + '/metadata_0.csv', names=['file_name', 'a', 'b', 'c' , 'd', 'labels'], keep_default_na=False)\n",
    "    data = df.drop(['a', 'b', 'c' , 'd'], axis=1)\n",
    "    data['labels'] = data['labels'].apply(lambda x: 1 if x=='shoplifting' else 0)\n",
    "    image_dir = directory_name\n",
    "    image_files = os.listdir(image_dir)\n",
    "    new_rows = []\n",
    "    for image_file in image_files:\n",
    "        file_name = os.path.basename(image_file)\n",
    "        if file_name not in data['file_name'].values and file_name != 'metadata_0.csv':\n",
    "            new_row = {'file_name': file_name, 'labels': 0}\n",
    "            new_rows.append({'file_name': file_name, 'labels': 0})\n",
    "    if new_rows:\n",
    "        data = pd.concat([data, pd.DataFrame(new_rows)], ignore_index=True)\n",
    "    data.to_csv(directory_name + '/metadata.csv', index=False)"
   ]
  },
  {
   "cell_type": "code",
   "execution_count": 72,
   "id": "eb179185-3515-486f-bfa6-3d3cdf3f5201",
   "metadata": {},
   "outputs": [
    {
     "name": "stdout",
     "output_type": "stream",
     "text": [
      "Defaulting to user installation because normal site-packages is not writeable\n",
      "Collecting albumentations\n",
      "  Downloading albumentations-1.4.2-py3-none-any.whl (133 kB)\n",
      "\u001b[2K     \u001b[38;2;114;156;31m━━━━━━━━━━━━━━━━━━━━━━━━━━━━━━━━━━━━━━━\u001b[0m \u001b[32m133.9/133.9 KB\u001b[0m \u001b[31m1.6 MB/s\u001b[0m eta \u001b[36m0:00:00\u001b[0m[31m1.5 MB/s\u001b[0m eta \u001b[36m0:00:01\u001b[0m\n",
      "\u001b[?25hCollecting scikit-learn>=1.3.2\n",
      "  Downloading scikit_learn-1.4.1.post1-cp310-cp310-manylinux_2_17_x86_64.manylinux2014_x86_64.whl (12.1 MB)\n",
      "\u001b[2K     \u001b[38;2;114;156;31m━━━━━━━━━━━━━━━━━━━━━━━━━━━━━━━━━━━━━━━━\u001b[0m \u001b[32m12.1/12.1 MB\u001b[0m \u001b[31m7.0 MB/s\u001b[0m eta \u001b[36m0:00:00\u001b[0mm eta \u001b[36m0:00:01\u001b[0m[36m0:00:01\u001b[0m\n",
      "\u001b[?25hCollecting typing-extensions>=4.9.0\n",
      "  Downloading typing_extensions-4.10.0-py3-none-any.whl (33 kB)\n",
      "Requirement already satisfied: scipy>=1.10.0 in /home/anastasia/.local/lib/python3.10/site-packages (from albumentations) (1.11.2)\n",
      "Requirement already satisfied: PyYAML in /usr/lib/python3/dist-packages (from albumentations) (5.4.1)\n",
      "Collecting scikit-image>=0.21.0\n",
      "  Downloading scikit_image-0.22.0-cp310-cp310-manylinux_2_17_x86_64.manylinux2014_x86_64.whl (14.7 MB)\n",
      "\u001b[2K     \u001b[38;2;114;156;31m━━━━━━━━━━━━━━━━━━━━━━━━━━━━━━━━━━━━━━━━\u001b[0m \u001b[32m14.7/14.7 MB\u001b[0m \u001b[31m3.4 MB/s\u001b[0m eta \u001b[36m0:00:00\u001b[0mm eta \u001b[36m0:00:01\u001b[0m[36m0:00:01\u001b[0m\n",
      "\u001b[?25hRequirement already satisfied: numpy>=1.24.4 in /home/anastasia/.local/lib/python3.10/site-packages (from albumentations) (1.26.0)\n",
      "Collecting opencv-python-headless>=4.9.0\n",
      "  Downloading opencv_python_headless-4.9.0.80-cp37-abi3-manylinux_2_17_x86_64.manylinux2014_x86_64.whl (49.6 MB)\n",
      "\u001b[2K     \u001b[38;2;114;156;31m━━━━━━━━━━━━━━━━━━━━━━━━━━━━━━━━━━━━━━━━\u001b[0m \u001b[32m49.6/49.6 MB\u001b[0m \u001b[31m2.6 MB/s\u001b[0m eta \u001b[36m0:00:00\u001b[0mm eta \u001b[36m0:00:01\u001b[0m[36m0:00:01\u001b[0m\n",
      "\u001b[?25hCollecting lazy_loader>=0.3\n",
      "  Downloading lazy_loader-0.3-py3-none-any.whl (9.1 kB)\n",
      "Collecting imageio>=2.27\n",
      "  Downloading imageio-2.34.0-py3-none-any.whl (313 kB)\n",
      "\u001b[2K     \u001b[38;2;114;156;31m━━━━━━━━━━━━━━━━━━━━━━━━━━━━━━━━━━━━━━━\u001b[0m \u001b[32m313.4/313.4 KB\u001b[0m \u001b[31m3.1 MB/s\u001b[0m eta \u001b[36m0:00:00\u001b[0m MB/s\u001b[0m eta \u001b[36m0:00:01\u001b[0m\n",
      "\u001b[?25hCollecting tifffile>=2022.8.12\n",
      "  Downloading tifffile-2024.2.12-py3-none-any.whl (224 kB)\n",
      "\u001b[2K     \u001b[38;2;114;156;31m━━━━━━━━━━━━━━━━━━━━━━━━━━━━━━━━━━━━━━━\u001b[0m \u001b[32m224.5/224.5 KB\u001b[0m \u001b[31m2.7 MB/s\u001b[0m eta \u001b[36m0:00:00\u001b[0m MB/s\u001b[0m eta \u001b[36m0:00:01\u001b[0m:01\u001b[0m\n",
      "\u001b[?25hRequirement already satisfied: packaging>=21 in /usr/lib/python3/dist-packages (from scikit-image>=0.21.0->albumentations) (21.3)\n",
      "Requirement already satisfied: pillow>=9.0.1 in /usr/lib/python3/dist-packages (from scikit-image>=0.21.0->albumentations) (9.0.1)\n",
      "Requirement already satisfied: networkx>=2.8 in /home/anastasia/.local/lib/python3.10/site-packages (from scikit-image>=0.21.0->albumentations) (3.2.1)\n",
      "Requirement already satisfied: threadpoolctl>=2.0.0 in /home/anastasia/.local/lib/python3.10/site-packages (from scikit-learn>=1.3.2->albumentations) (3.2.0)\n",
      "Requirement already satisfied: joblib>=1.2.0 in /home/anastasia/.local/lib/python3.10/site-packages (from scikit-learn>=1.3.2->albumentations) (1.3.2)\n",
      "Installing collected packages: typing-extensions, tifffile, opencv-python-headless, lazy_loader, imageio, scikit-learn, scikit-image, albumentations\n",
      "  Attempting uninstall: typing-extensions\n",
      "    Found existing installation: typing_extensions 4.8.0\n",
      "    Uninstalling typing_extensions-4.8.0:\n",
      "      Successfully uninstalled typing_extensions-4.8.0\n",
      "  Attempting uninstall: scikit-learn\n",
      "    Found existing installation: scikit-learn 1.3.1\n",
      "    Uninstalling scikit-learn-1.3.1:\n",
      "      Successfully uninstalled scikit-learn-1.3.1\n",
      "Successfully installed albumentations-1.4.2 imageio-2.34.0 lazy_loader-0.3 opencv-python-headless-4.9.0.80 scikit-image-0.22.0 scikit-learn-1.4.1.post1 tifffile-2024.2.12 typing-extensions-4.10.0\n",
      "Note: you may need to restart the kernel to use updated packages.\n"
     ]
    }
   ],
   "source": [
    "pip install albumentations"
   ]
  },
  {
   "cell_type": "code",
   "execution_count": 73,
   "id": "86a9438c-3fab-445a-a44d-86905f0878f0",
   "metadata": {},
   "outputs": [],
   "source": [
    "import albumentations as A\n",
    "import cv2\n",
    "import matplotlib.pyplot as plt\n",
    "import pandas as pd"
   ]
  },
  {
   "cell_type": "code",
   "execution_count": 87,
   "id": "1a9d0a31-5ca9-4137-b52a-a330207fa428",
   "metadata": {},
   "outputs": [],
   "source": [
    "def horizontal_augmentation(img_path, type_transform, file_name, path_to_save):\n",
    "    \n",
    "    if type_transform == 'Horizontal':\n",
    "        transform = A.Compose(A.HorizontalFlip(p = 1))\n",
    "    #else: ... Добавить другие типы\n",
    "        \n",
    "    image = cv2.imread(img_path)\n",
    "    image = cv2.cvtColor(image, cv2.COLOR_BGR2RGB)\n",
    "    \n",
    "    transformed = transform(image = image)\n",
    "    transformed_image = transformed[\"image\"]\n",
    "    \n",
    "    nparray = transformed_image\n",
    "    nparraybgr = cv2.cvtColor(nparray, cv2.COLOR_RGB2BGR)\n",
    "    cv2.imwrite(path_to_save + '/' + file_name, nparraybgr)\n",
    "    \n",
    "    pass"
   ]
  },
  {
   "cell_type": "code",
   "execution_count": 93,
   "id": "18e44283-a778-4c4b-8b52-b505da2d5f9f",
   "metadata": {},
   "outputs": [],
   "source": [
    "import os\n",
    "directory = 'valid'\n",
    "for filename in os.listdir(directory):\n",
    "    file_path = os.path.join(directory, filename)\n",
    "    if os.path.isfile(file_path) and filename.lower().endswith('.jpg'):\n",
    "        horizontal_augmentation(file_path, 'Horizontal', filename, 'valid_horizontal')"
   ]
  },
  {
   "cell_type": "code",
   "execution_count": 94,
   "id": "08db8e15-8532-4d99-967e-29264adcc9f2",
   "metadata": {},
   "outputs": [],
   "source": [
    "for filename in os.listdir('valid_horizontal'):\n",
    "    if filename.lower().endswith('.jpg'):\n",
    "        new_filename = filename.replace('.jpg', '_horizontal.jpg')\n",
    "        os.rename(os.path.join('valid_horizontal', filename), os.path.join('valid_horizontal', new_filename))"
   ]
  },
  {
   "cell_type": "code",
   "execution_count": 101,
   "id": "00cdf068-ed8c-4c50-872a-70ae4bdc6022",
   "metadata": {},
   "outputs": [],
   "source": [
    "df = pd.read_csv('valid/metadata.csv')\n",
    "def replace_value(row):\n",
    "    return row.replace('.jpg', '_horizontal.jpg')\n",
    "df['file_name'] = df['file_name'].apply(replace_value)\n",
    "df.to_csv('valid_horizontal' + '/metadata.csv', index=False)"
   ]
  },
  {
   "cell_type": "code",
   "execution_count": 105,
   "id": "f5d0d88b-fdba-4fb2-9e78-70a57601ae2a",
   "metadata": {},
   "outputs": [],
   "source": [
    "df1 = pd.read_csv('train/metadata.csv')\n",
    "df2 = pd.read_csv('test/metadata.csv')\n",
    "df3 = pd.read_csv('valid/metadata.csv')\n",
    "df1h = pd.read_csv('train_horizontal/metadata.csv')\n",
    "df2h = pd.read_csv('test_horizontal/metadata.csv')\n",
    "df3h = pd.read_csv('valid_horizontal/metadata.csv')"
   ]
  },
  {
   "cell_type": "code",
   "execution_count": 106,
   "id": "73ec923c-59e4-4701-af50-9c85f79af556",
   "metadata": {},
   "outputs": [],
   "source": [
    "df_train = pd.concat([df1, df1h], ignore_index=True)\n",
    "df_test = pd.concat([df2, df2h], ignore_index=True)\n",
    "df_valid = pd.concat([df3, df3h], ignore_index=True)"
   ]
  },
  {
   "cell_type": "code",
   "execution_count": 116,
   "id": "b09d1367-695e-4b72-928c-f400cfd654c8",
   "metadata": {},
   "outputs": [],
   "source": [
    "import os\n",
    "import shutil\n",
    "\n",
    "dir1 = 'valid'\n",
    "dir2 = 'valid_horizontal'\n",
    "output_dir = 'valid_2' \n",
    "for filename in os.listdir(dir1):\n",
    "    shutil.move(os.path.join(dir1, filename), output_dir)\n",
    "for filename in os.listdir(dir2):\n",
    "    shutil.move(os.path.join(dir2, filename), output_dir)"
   ]
  },
  {
   "cell_type": "code",
   "execution_count": 114,
   "id": "5d82dc97-c903-4379-afa8-ff836921f972",
   "metadata": {},
   "outputs": [
    {
     "data": {
      "text/html": [
       "<div>\n",
       "<style scoped>\n",
       "    .dataframe tbody tr th:only-of-type {\n",
       "        vertical-align: middle;\n",
       "    }\n",
       "\n",
       "    .dataframe tbody tr th {\n",
       "        vertical-align: top;\n",
       "    }\n",
       "\n",
       "    .dataframe thead th {\n",
       "        text-align: right;\n",
       "    }\n",
       "</style>\n",
       "<table border=\"1\" class=\"dataframe\">\n",
       "  <thead>\n",
       "    <tr style=\"text-align: right;\">\n",
       "      <th></th>\n",
       "      <th>file_name</th>\n",
       "      <th>labels</th>\n",
       "    </tr>\n",
       "  </thead>\n",
       "  <tbody>\n",
       "    <tr>\n",
       "      <th>0</th>\n",
       "      <td>ShopliftingP5-81-_png.rf.422aa41957aaacfb1345e...</td>\n",
       "      <td>1</td>\n",
       "    </tr>\n",
       "    <tr>\n",
       "      <th>1</th>\n",
       "      <td>shopliftingP3-133-_png.rf.0583406d62ec44f8f41f...</td>\n",
       "      <td>1</td>\n",
       "    </tr>\n",
       "    <tr>\n",
       "      <th>2</th>\n",
       "      <td>ShopliftingP5-31-_png.rf.3f88b08d6884aa07d0731...</td>\n",
       "      <td>1</td>\n",
       "    </tr>\n",
       "    <tr>\n",
       "      <th>3</th>\n",
       "      <td>shopliftingP3-103-_png.rf.157dea3c4a2e38cf76fe...</td>\n",
       "      <td>1</td>\n",
       "    </tr>\n",
       "    <tr>\n",
       "      <th>4</th>\n",
       "      <td>shopliftingP3-66-_png.rf.141e21c16fa3bd6f06340...</td>\n",
       "      <td>1</td>\n",
       "    </tr>\n",
       "    <tr>\n",
       "      <th>...</th>\n",
       "      <td>...</td>\n",
       "      <td>...</td>\n",
       "    </tr>\n",
       "    <tr>\n",
       "      <th>105</th>\n",
       "      <td>.~lock.metadata_new.csv#</td>\n",
       "      <td>0</td>\n",
       "    </tr>\n",
       "    <tr>\n",
       "      <th>106</th>\n",
       "      <td>shopliftingP3-8-_png.rf.6e6176126d3373f26015e5...</td>\n",
       "      <td>0</td>\n",
       "    </tr>\n",
       "    <tr>\n",
       "      <th>107</th>\n",
       "      <td>Shopliftingp2-133-_png.rf.b0e5dbe890e240d8a7e2...</td>\n",
       "      <td>0</td>\n",
       "    </tr>\n",
       "    <tr>\n",
       "      <th>108</th>\n",
       "      <td>ShopliftingP4-56-_png.rf.e270d76a84bec2dd728eb...</td>\n",
       "      <td>0</td>\n",
       "    </tr>\n",
       "    <tr>\n",
       "      <th>109</th>\n",
       "      <td>Shopliftingp2-103-_png.rf.a625ac918059087f8c18...</td>\n",
       "      <td>0</td>\n",
       "    </tr>\n",
       "  </tbody>\n",
       "</table>\n",
       "<p>110 rows × 2 columns</p>\n",
       "</div>"
      ],
      "text/plain": [
       "                                             file_name  labels\n",
       "0    ShopliftingP5-81-_png.rf.422aa41957aaacfb1345e...       1\n",
       "1    shopliftingP3-133-_png.rf.0583406d62ec44f8f41f...       1\n",
       "2    ShopliftingP5-31-_png.rf.3f88b08d6884aa07d0731...       1\n",
       "3    shopliftingP3-103-_png.rf.157dea3c4a2e38cf76fe...       1\n",
       "4    shopliftingP3-66-_png.rf.141e21c16fa3bd6f06340...       1\n",
       "..                                                 ...     ...\n",
       "105                           .~lock.metadata_new.csv#       0\n",
       "106  shopliftingP3-8-_png.rf.6e6176126d3373f26015e5...       0\n",
       "107  Shopliftingp2-133-_png.rf.b0e5dbe890e240d8a7e2...       0\n",
       "108  ShopliftingP4-56-_png.rf.e270d76a84bec2dd728eb...       0\n",
       "109  Shopliftingp2-103-_png.rf.a625ac918059087f8c18...       0\n",
       "\n",
       "[110 rows x 2 columns]"
      ]
     },
     "execution_count": 114,
     "metadata": {},
     "output_type": "execute_result"
    }
   ],
   "source": [
    "df_test.head(110)"
   ]
  },
  {
   "cell_type": "code",
   "execution_count": 117,
   "id": "6a00d72e-8fec-4f73-b59f-b2714820486a",
   "metadata": {},
   "outputs": [],
   "source": [
    "df_train.to_csv('train_2' + '/metadata.csv', index=False)\n",
    "df_test.to_csv('test_2' + '/metadata.csv', index=False)\n",
    "df_valid.to_csv('valid_2' + '/metadata.csv', index=False)"
   ]
  }
 ],
 "metadata": {
  "kernelspec": {
   "display_name": "Python 3 (ipykernel)",
   "language": "python",
   "name": "python3"
  },
  "language_info": {
   "codemirror_mode": {
    "name": "ipython",
    "version": 3
   },
   "file_extension": ".py",
   "mimetype": "text/x-python",
   "name": "python",
   "nbconvert_exporter": "python",
   "pygments_lexer": "ipython3",
   "version": "3.10.12"
  }
 },
 "nbformat": 4,
 "nbformat_minor": 5
}
